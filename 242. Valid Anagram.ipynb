{
 "cells": [
  {
   "cell_type": "code",
   "execution_count": null,
   "metadata": {},
   "outputs": [],
   "source": [
    "class Solution(object):\n",
    "    def isAnagram(self, s, t):\n",
    "        \"\"\"\n",
    "        :type s: str\n",
    "        :type t: str\n",
    "        :rtype: bool\n",
    "        \"\"\"\n",
    "        \n",
    "        if len(s)!=len(t):\n",
    "            return False\n",
    "        else:\n",
    "            for c in s:\n",
    "                if c in t:\n",
    "                    \n",
    "                    if s.count(c)!=t.count(c):\n",
    "                        return False\n",
    "                    else:\n",
    "                        t=t.replace(c,\"\")\n",
    "                        s=s.replace(c,\"\")\n",
    "                        #print(\"s\",s)\n",
    "                        #print(\"t\",t)\n",
    "                \n",
    "      \n",
    "        if s==t==\"\":\n",
    "            return True\n",
    "        \n",
    "      "
   ]
  }
 ],
 "metadata": {
  "kernelspec": {
   "display_name": "Python 3",
   "language": "python",
   "name": "python3"
  },
  "language_info": {
   "codemirror_mode": {
    "name": "ipython",
    "version": 3
   },
   "file_extension": ".py",
   "mimetype": "text/x-python",
   "name": "python",
   "nbconvert_exporter": "python",
   "pygments_lexer": "ipython3",
   "version": "3.7.1"
  }
 },
 "nbformat": 4,
 "nbformat_minor": 4
}
