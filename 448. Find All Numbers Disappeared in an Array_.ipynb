{
 "cells": [
  {
   "cell_type": "code",
   "execution_count": null,
   "metadata": {},
   "outputs": [],
   "source": [
    "        nums=[4,3,2,7,8,2,3,1]\n",
    "        a=[]\n",
    "        for i,aval in enumerate(nums):\n",
    "            val=abs(aval)\n",
    "            if(nums[val-1]>0):\n",
    "                \n",
    "                nums[val-1]=nums[val-1]*-1\n",
    "                print(nums[val-1])\n",
    "       # print(nums)        \n",
    "        for  i,x in enumerate(nums):\n",
    "            if x>0:\n",
    "                a.append(i+1)\n",
    "        return a        "
   ]
  }
 ],
 "metadata": {
  "kernelspec": {
   "display_name": "Python 3",
   "language": "python",
   "name": "python3"
  },
  "language_info": {
   "codemirror_mode": {
    "name": "ipython",
    "version": 3
   },
   "file_extension": ".py",
   "mimetype": "text/x-python",
   "name": "python",
   "nbconvert_exporter": "python",
   "pygments_lexer": "ipython3",
   "version": "3.7.1"
  }
 },
 "nbformat": 4,
 "nbformat_minor": 4
}
