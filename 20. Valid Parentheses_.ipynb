{
 "cells": [
  {
   "cell_type": "code",
   "execution_count": null,
   "metadata": {},
   "outputs": [],
   "source": [
    "class Solution(object):\n",
    "    def isValid(self, s):\n",
    "        \"\"\"\n",
    "        :type s: str\n",
    "        :rtype: bool\n",
    "        \"\"\"\n",
    "        open1=[\"(\",\"[\",\"{\"]\n",
    "        close1=[\")\",\"]\",\"}\"]\n",
    "        stack=[]\n",
    "        if len(s)%2!=0:\n",
    "            return False\n",
    "        for x in s:\n",
    "            \n",
    "            if x in open1:\n",
    "                stack.append(x)\n",
    "            elif x in close1:\n",
    "                ind=close1.index(x)\n",
    "                if stack:\n",
    "                    if open1[ind] == stack[-1]:\n",
    "\n",
    "                        stack.pop()\n",
    "                    else:\n",
    "                        return False\n",
    "                else:\n",
    "                    return False\n",
    "        if stack==[]:\n",
    "            return True\n",
    "        "
   ]
  }
 ],
 "metadata": {
  "kernelspec": {
   "display_name": "Python 3",
   "language": "python",
   "name": "python3"
  },
  "language_info": {
   "codemirror_mode": {
    "name": "ipython",
    "version": 3
   },
   "file_extension": ".py",
   "mimetype": "text/x-python",
   "name": "python",
   "nbconvert_exporter": "python",
   "pygments_lexer": "ipython3",
   "version": "3.7.1"
  }
 },
 "nbformat": 4,
 "nbformat_minor": 4
}
