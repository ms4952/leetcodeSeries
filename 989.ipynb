{
 "cells": [
  {
   "cell_type": "code",
   "execution_count": 20,
   "metadata": {},
   "outputs": [
    {
     "name": "stdout",
     "output_type": "stream",
     "text": [
      "16\n",
      "6\n",
      "1\n"
     ]
    },
    {
     "data": {
      "text/plain": [
       "[1, 6]"
      ]
     },
     "execution_count": 20,
     "metadata": {},
     "output_type": "execute_result"
    }
   ],
   "source": [
    "A = [1,2]\n",
    "K = 4\n",
    "num=0\n",
    "for x in A:\n",
    "    \n",
    "    num=num*10+x\n",
    "v=[]    \n",
    "num+=K \n",
    "print(num)\n",
    "while num>0:\n",
    "    print(num%10)\n",
    "    v.append(num%10)\n",
    "    num=int(num/10)\n",
    "v.reverse()    \n",
    "v    "
   ]
  },
  {
   "cell_type": "code",
   "execution_count": null,
   "metadata": {},
   "outputs": [],
   "source": []
  }
 ],
 "metadata": {
  "kernelspec": {
   "display_name": "Python 3",
   "language": "python",
   "name": "python3"
  },
  "language_info": {
   "codemirror_mode": {
    "name": "ipython",
    "version": 3
   },
   "file_extension": ".py",
   "mimetype": "text/x-python",
   "name": "python",
   "nbconvert_exporter": "python",
   "pygments_lexer": "ipython3",
   "version": "3.7.1"
  }
 },
 "nbformat": 4,
 "nbformat_minor": 4
}
