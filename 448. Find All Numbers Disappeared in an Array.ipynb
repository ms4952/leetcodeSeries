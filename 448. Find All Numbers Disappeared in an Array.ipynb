{
 "cells": [
  {
   "cell_type": "code",
   "execution_count": 3,
   "metadata": {},
   "outputs": [
    {
     "name": "stdout",
     "output_type": "stream",
     "text": [
      "5\n",
      "6\n"
     ]
    }
   ],
   "source": [
    "a=[4,3,2,7,8,2,3,1]\n",
    "n=len(a)\n",
    "l=[]\n",
    "for x in range(1,n+1):\n",
    "    if x not in a:\n",
    "        l.append(x)\n",
    "    "
   ]
  },
  {
   "cell_type": "code",
   "execution_count": 6,
   "metadata": {},
   "outputs": [
    {
     "data": {
      "text/plain": [
       "[5, 6]"
      ]
     },
     "execution_count": 6,
     "metadata": {},
     "output_type": "execute_result"
    }
   ],
   "source": [
    "a=[4,3,2,7,8,2,3,1]\n",
    "n=len(a)\n",
    "a=list(dict.fromkeys(a))\n",
    "for x in range(1,n+1):\n",
    "    if x in a:\n",
    "        a.remove(x)\n",
    "    else:\n",
    "        a.append(x)\n",
    "a    "
   ]
  },
  {
   "cell_type": "code",
   "execution_count": 7,
   "metadata": {},
   "outputs": [
    {
     "data": {
      "text/plain": [
       "[5, 6]"
      ]
     },
     "execution_count": 7,
     "metadata": {},
     "output_type": "execute_result"
    }
   ],
   "source": [
    "nums=[4,3,2,7,8,2,3,1]\n",
    "for n in nums:\n",
    "            a = abs(n) - 1\n",
    "            if nums[a] > 0: nums[a] *= -1\n",
    "a=[i+1 for i in range(len(nums)) if nums[i] > 0]\n",
    "a"
   ]
  },
  {
   "cell_type": "code",
   "execution_count": null,
   "metadata": {},
   "outputs": [],
   "source": []
  }
 ],
 "metadata": {
  "kernelspec": {
   "display_name": "Python 3",
   "language": "python",
   "name": "python3"
  },
  "language_info": {
   "codemirror_mode": {
    "name": "ipython",
    "version": 3
   },
   "file_extension": ".py",
   "mimetype": "text/x-python",
   "name": "python",
   "nbconvert_exporter": "python",
   "pygments_lexer": "ipython3",
   "version": "3.7.1"
  }
 },
 "nbformat": 4,
 "nbformat_minor": 4
}
