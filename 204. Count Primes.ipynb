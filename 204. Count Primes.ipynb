{
 "cells": [
  {
   "cell_type": "code",
   "execution_count": null,
   "metadata": {},
   "outputs": [],
   "source": [
    "class Solution(object):\n",
    "    def countPrimes(self, n):\n",
    "        \"\"\"\n",
    "        :type n: int\n",
    "        :rtype: int\n",
    "        \"\"\"\n",
    "        p=0\n",
    "        l=[]\n",
    "        for x in range(2,n):\n",
    "            l.append(x)\n",
    "        #print(l)    \n",
    "        for x in l:\n",
    "            \n",
    "            c=0\n",
    "            for y in range(2,x):\n",
    "                if x*y in l:\n",
    "                    l.remove(x*y)\n",
    "                if x%y==0:\n",
    "                    c+=1\n",
    "                    if c>0:\n",
    "                        break\n",
    "                    else:\n",
    "                        continue\n",
    "            if c==0:\n",
    "                p+=1\n",
    "                #print(x)\n",
    "                # for g in range(1,n/2):\n",
    "                #     if x*g in l:\n",
    "                #         l.remove(x*g)\n",
    "                 #   print(l)    \n",
    "        return p        \n",
    "                "
   ]
  }
 ],
 "metadata": {
  "kernelspec": {
   "display_name": "Python 3",
   "language": "python",
   "name": "python3"
  },
  "language_info": {
   "codemirror_mode": {
    "name": "ipython",
    "version": 3
   },
   "file_extension": ".py",
   "mimetype": "text/x-python",
   "name": "python",
   "nbconvert_exporter": "python",
   "pygments_lexer": "ipython3",
   "version": "3.7.1"
  }
 },
 "nbformat": 4,
 "nbformat_minor": 4
}
